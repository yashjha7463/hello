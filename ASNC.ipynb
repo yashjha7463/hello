{
  "nbformat": 4,
  "nbformat_minor": 0,
  "metadata": {
    "colab": {
      "provenance": []
    },
    "kernelspec": {
      "name": "python3",
      "display_name": "Python 3"
    },
    "language_info": {
      "name": "python"
    }
  },
  "cells": [
    {
      "cell_type": "code",
      "execution_count": null,
      "metadata": {
        "id": "isO6O0-GBDV3"
      },
      "outputs": [],
      "source": [
        "import numpy as np\n",
        "import matplotlib.pyplot as plt\n",
        "import scipy.signal as sig\n",
        "\n",
        "def adaptive_spectrum_noise_cancellation(signal, reference, filter_length=64, step_size=0.01):\n",
        "    \"\"\"\n",
        "    Perform adaptive spectrum noise cancellation on a heart beat signal.\n",
        "\n",
        "    Parameters:\n",
        "    - signal: 1D numpy array containing the heart beat signal\n",
        "    - reference: 1D numpy array containing the reference signal, such as a noise signal\n",
        "    - filter_length: integer, length of the adaptive filter\n",
        "    - step_size: float, step size for the LMS algorithm\n",
        "\n",
        "    Returns:\n",
        "    - filtered_signal: 1D numpy array containing the filtered heart beat signal\n",
        "    \"\"\"\n",
        "    # Initialize the adaptive filter\n",
        "    w = np.zeros(filter_length)\n",
        "\n",
        "    # Initialize the filtered signal array\n",
        "    filtered_signal = np.zeros_like(signal)\n",
        "\n",
        "    # Loop through the heart beat signal\n",
        "    for n, x in enumerate(signal):\n",
        "        # Get the current reference signal segment\n",
        "        reference_segment = reference[n:n+filter_length]\n",
        "\n",
        "        # Compute the current error\n",
        "        error = x - np.dot(w, reference_segment)\n",
        "\n",
        "        # Update the filter coefficients\n",
        "        w = w + step_size * error * reference_segment\n",
        "\n",
        "        # Store the filtered signal\n",
        "        filtered_signal[n] = error\n",
        "\n",
        "    return filtered_signal\n",
        "\n",
        "if __name__ == \"__main__\":\n",
        "    # Generate a heart beat signal\n",
        "    fs = 1000  # Sampling frequency (Hz)\n",
        "    T = 2  # Total duration (s)\n",
        "    t = np.linspace(0, T, int(T * fs), endpoint=False)\n",
        "    heart_beat = sig.square(2 * np.pi * 5 * t)\n",
        "\n",
        "    # Add some noise to the heart beat signal\n",
        "    noise = np.random.normal(0, 1, len(heart_beat))\n",
        "    noisy_heart_beat = heart_beat + noise\n",
        "\n",
        "    # Plot the original and noisy heart beat signals\n",
        "    plt.plot(t, heart_beat, label=\"Original\")\n",
        "    plt.plot(t, noisy_heart_beat, label=\"Noisy\")\n",
        "    plt.legend()\n",
        "    plt.show()\n",
        "\n",
        "    # Perform adaptive spectrum noise cancellation\n",
        "    filtered_heart_beat = adaptive_spectrum_noise_cancellation(noisy_heart_beat, noise)\n",
        "\n",
        "    # Plot the filtered heart beat signal\n",
        "    plt.plot(t, filtered_heart_beat, label=\"Filtered\")\n",
        "    plt.legend()\n",
        "    plt.show()\n"
      ]
    },
    {
      "cell_type": "markdown",
      "source": [
        "This code uses the Least Mean Squares (LMS) algorithm to adaptively cancel the noise in the heart beat signal. The adaptive_spectrum_noise_cancellation function takes in the heart beat signal and reference signal as inputs, along with parameters for the filter length and step size. It returns the filtered heart beat signal, which has had the noise removed.\n",
        "\n",
        "The main function generates a heart beat signal and adds some random noise to it. It then performs adaptive spectrum noise cancellation using the `adaptive_spectrum_noise_cancellation"
      ],
      "metadata": {
        "id": "fuPo8lBJBNl7"
      }
    }
  ]
}